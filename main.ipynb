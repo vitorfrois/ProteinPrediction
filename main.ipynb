{
 "cells": [
  {
   "cell_type": "markdown",
   "metadata": {},
   "source": [
    "# Predição da Localização Subcelular de Proteínas\n",
    "### Vítor Amorim Fróis"
   ]
  },
  {
   "cell_type": "code",
   "execution_count": 197,
   "metadata": {},
   "outputs": [],
   "source": [
    "import pandas as pd\n",
    "import numpy as np\n",
    "import matplotlib.pyplot as plt\n",
    "from sklearn.model_selection import train_test_split\n",
    "from sklearn.metrics import hamming_loss\n",
    "from sklearn.preprocessing import StandardScaler"
   ]
  },
  {
   "cell_type": "markdown",
   "metadata": {},
   "source": [
    "# Rede Neural\n",
    "Vamos criar uma classe `SimpleNN` para ambos casos. A classe irá possuir métodos para treinar uma rede sobre um conjunto de treinamento especificado"
   ]
  },
  {
   "cell_type": "code",
   "execution_count": 217,
   "metadata": {},
   "outputs": [],
   "source": [
    "import os\n",
    "os.environ[\"KERAS_BACKEND\"] = \"jax\"\n",
    "import keras\n",
    "\n",
    "class SimpleNN:\n",
    "    def __init__(self, input_size: int, output_size: int):\n",
    "        self.model = keras.Sequential(\n",
    "            [\n",
    "                keras.layers.Input(shape=(input_size,)),\n",
    "                keras.layers.Dense(128, activation=\"sigmoid\"),\n",
    "                keras.layers.Dense(output_size, activation=\"sigmoid\"),\n",
    "            ]\n",
    "        )\n",
    "    def compile(self):\n",
    "        self.model.compile(\n",
    "            loss=keras.losses.BinaryCrossentropy(),\n",
    "            optimizer=keras.optimizers.RMSprop(),\n",
    "            metrics=['binary_crossentropy']\n",
    "        )\n",
    "\n",
    "    def fit(self, X, y, batch_size: int = 10, epochs: int = 10):\n",
    "        return self.model.fit(\n",
    "            X,\n",
    "            y,\n",
    "            batch_size=batch_size,\n",
    "            epochs=epochs,\n",
    "            validation_split=0.15,\n",
    "            callbacks=[keras.callbacks.EarlyStopping(patience=2)],\n",
    "        )\n",
    "\n",
    "    def evaluate(self, X, y):\n",
    "        return self.model.evaluate(X, y, verbose=0)\n",
    "\n",
    "    def predict(self, X):\n",
    "        return self.model.predict(X)"
   ]
  },
  {
   "cell_type": "markdown",
   "metadata": {},
   "source": [
    "# Vírus\n",
    "O conjunto de dados possui seis localizações subcelulares: Proteínas do Capsídeo Viral, Proteínas da Membrana Celular do Hospedeiro, Proteínas do Retículo Endoplasmático do Hospedeiro, Proteínas do Citoplasma do Hospedeiro, Proteínas do Núcleo do Hospedeiro e Proteínas Secretadas. \n",
    "\n",
    "### Leitura do Dataset"
   ]
  },
  {
   "cell_type": "code",
   "execution_count": 231,
   "metadata": {},
   "outputs": [],
   "source": [
    "virus_df = pd.read_csv('data/Virus_Dataset_Term_Frequency.tsv', delimiter='\\t')\n",
    "targets = virus_df.columns[-6:]\n",
    "features = [i for i in virus_df.columns if i.isdigit()]"
   ]
  },
  {
   "cell_type": "markdown",
   "metadata": {},
   "source": [
    "### Split treino e teste"
   ]
  },
  {
   "cell_type": "code",
   "execution_count": 232,
   "metadata": {},
   "outputs": [
    {
     "name": "stdout",
     "output_type": "stream",
     "text": [
      "X_train shape: (144, 362)\n",
      "y_train shape: (144, 6)\n",
      "62 test samples\n",
      "144 train samples\n"
     ]
    }
   ],
   "source": [
    "X = virus_df[features]\n",
    "y = virus_df[targets]\n",
    "X_train, X_test, y_train, y_test = train_test_split(X, y, random_state=0, train_size=0.7)\n",
    "\n",
    "print(\"X_train shape:\", X_train.shape)\n",
    "print(\"y_train shape:\", y_train.shape)\n",
    "print(X_test.shape[0], \"test samples\")\n",
    "print(X_train.shape[0], \"train samples\")"
   ]
  },
  {
   "cell_type": "markdown",
   "metadata": {},
   "source": [
    "### Normalização dos dados"
   ]
  },
  {
   "cell_type": "code",
   "execution_count": 233,
   "metadata": {},
   "outputs": [],
   "source": [
    "scaler = StandardScaler() \n",
    "scaler.fit(X_train)\n",
    "X_train = scaler.transform(X_train)\n",
    "X_test = scaler.transform(X_test)\n",
    "\n",
    "X_train = np.expand_dims(X_train, -1)\n",
    "X_test = np.expand_dims(X_test, -1)"
   ]
  },
  {
   "cell_type": "markdown",
   "metadata": {},
   "source": [
    "### Instancia e treina rede neural"
   ]
  },
  {
   "cell_type": "code",
   "execution_count": 234,
   "metadata": {},
   "outputs": [
    {
     "name": "stdout",
     "output_type": "stream",
     "text": [
      "Epoch 1/50\n"
     ]
    },
    {
     "name": "stdout",
     "output_type": "stream",
     "text": [
      "\u001b[1m13/13\u001b[0m \u001b[32m━━━━━━━━━━━━━━━━━━━━\u001b[0m\u001b[37m\u001b[0m \u001b[1m1s\u001b[0m 64ms/step - binary_crossentropy: 0.5925 - loss: 0.5925 - val_binary_crossentropy: 0.4620 - val_loss: 0.4620\n",
      "Epoch 2/50\n",
      "\u001b[1m13/13\u001b[0m \u001b[32m━━━━━━━━━━━━━━━━━━━━\u001b[0m\u001b[37m\u001b[0m \u001b[1m0s\u001b[0m 3ms/step - binary_crossentropy: 0.4171 - loss: 0.4171 - val_binary_crossentropy: 0.4192 - val_loss: 0.4192\n",
      "Epoch 3/50\n",
      "\u001b[1m13/13\u001b[0m \u001b[32m━━━━━━━━━━━━━━━━━━━━\u001b[0m\u001b[37m\u001b[0m \u001b[1m0s\u001b[0m 4ms/step - binary_crossentropy: 0.3477 - loss: 0.3477 - val_binary_crossentropy: 0.3966 - val_loss: 0.3966\n",
      "Epoch 4/50\n",
      "\u001b[1m13/13\u001b[0m \u001b[32m━━━━━━━━━━━━━━━━━━━━\u001b[0m\u001b[37m\u001b[0m \u001b[1m0s\u001b[0m 2ms/step - binary_crossentropy: 0.3153 - loss: 0.3153 - val_binary_crossentropy: 0.3765 - val_loss: 0.3765\n",
      "Epoch 5/50\n",
      "\u001b[1m13/13\u001b[0m \u001b[32m━━━━━━━━━━━━━━━━━━━━\u001b[0m\u001b[37m\u001b[0m \u001b[1m0s\u001b[0m 2ms/step - binary_crossentropy: 0.2798 - loss: 0.2798 - val_binary_crossentropy: 0.3615 - val_loss: 0.3615\n",
      "Epoch 6/50\n",
      "\u001b[1m13/13\u001b[0m \u001b[32m━━━━━━━━━━━━━━━━━━━━\u001b[0m\u001b[37m\u001b[0m \u001b[1m0s\u001b[0m 3ms/step - binary_crossentropy: 0.2669 - loss: 0.2669 - val_binary_crossentropy: 0.3506 - val_loss: 0.3506\n",
      "Epoch 7/50\n",
      "\u001b[1m13/13\u001b[0m \u001b[32m━━━━━━━━━━━━━━━━━━━━\u001b[0m\u001b[37m\u001b[0m \u001b[1m0s\u001b[0m 2ms/step - binary_crossentropy: 0.2308 - loss: 0.2308 - val_binary_crossentropy: 0.3395 - val_loss: 0.3395\n",
      "Epoch 8/50\n",
      "\u001b[1m13/13\u001b[0m \u001b[32m━━━━━━━━━━━━━━━━━━━━\u001b[0m\u001b[37m\u001b[0m \u001b[1m0s\u001b[0m 2ms/step - binary_crossentropy: 0.2188 - loss: 0.2188 - val_binary_crossentropy: 0.3298 - val_loss: 0.3298\n",
      "Epoch 9/50\n",
      "\u001b[1m13/13\u001b[0m \u001b[32m━━━━━━━━━━━━━━━━━━━━\u001b[0m\u001b[37m\u001b[0m \u001b[1m0s\u001b[0m 2ms/step - binary_crossentropy: 0.1958 - loss: 0.1958 - val_binary_crossentropy: 0.3218 - val_loss: 0.3218\n",
      "Epoch 10/50\n",
      "\u001b[1m13/13\u001b[0m \u001b[32m━━━━━━━━━━━━━━━━━━━━\u001b[0m\u001b[37m\u001b[0m \u001b[1m0s\u001b[0m 2ms/step - binary_crossentropy: 0.1753 - loss: 0.1753 - val_binary_crossentropy: 0.3182 - val_loss: 0.3182\n",
      "Epoch 11/50\n",
      "\u001b[1m13/13\u001b[0m \u001b[32m━━━━━━━━━━━━━━━━━━━━\u001b[0m\u001b[37m\u001b[0m \u001b[1m0s\u001b[0m 2ms/step - binary_crossentropy: 0.1641 - loss: 0.1641 - val_binary_crossentropy: 0.3095 - val_loss: 0.3095\n",
      "Epoch 12/50\n",
      "\u001b[1m13/13\u001b[0m \u001b[32m━━━━━━━━━━━━━━━━━━━━\u001b[0m\u001b[37m\u001b[0m \u001b[1m0s\u001b[0m 2ms/step - binary_crossentropy: 0.1386 - loss: 0.1386 - val_binary_crossentropy: 0.3032 - val_loss: 0.3032\n",
      "Epoch 13/50\n",
      "\u001b[1m13/13\u001b[0m \u001b[32m━━━━━━━━━━━━━━━━━━━━\u001b[0m\u001b[37m\u001b[0m \u001b[1m0s\u001b[0m 3ms/step - binary_crossentropy: 0.1376 - loss: 0.1376 - val_binary_crossentropy: 0.3000 - val_loss: 0.3000\n",
      "Epoch 14/50\n",
      "\u001b[1m13/13\u001b[0m \u001b[32m━━━━━━━━━━━━━━━━━━━━\u001b[0m\u001b[37m\u001b[0m \u001b[1m0s\u001b[0m 2ms/step - binary_crossentropy: 0.1117 - loss: 0.1117 - val_binary_crossentropy: 0.2936 - val_loss: 0.2936\n",
      "Epoch 15/50\n",
      "\u001b[1m13/13\u001b[0m \u001b[32m━━━━━━━━━━━━━━━━━━━━\u001b[0m\u001b[37m\u001b[0m \u001b[1m0s\u001b[0m 3ms/step - binary_crossentropy: 0.1318 - loss: 0.1318 - val_binary_crossentropy: 0.2880 - val_loss: 0.2880\n",
      "Epoch 16/50\n",
      "\u001b[1m13/13\u001b[0m \u001b[32m━━━━━━━━━━━━━━━━━━━━\u001b[0m\u001b[37m\u001b[0m \u001b[1m0s\u001b[0m 4ms/step - binary_crossentropy: 0.1008 - loss: 0.1008 - val_binary_crossentropy: 0.2847 - val_loss: 0.2847\n",
      "Epoch 17/50\n",
      "\u001b[1m13/13\u001b[0m \u001b[32m━━━━━━━━━━━━━━━━━━━━\u001b[0m\u001b[37m\u001b[0m \u001b[1m0s\u001b[0m 4ms/step - binary_crossentropy: 0.0878 - loss: 0.0878 - val_binary_crossentropy: 0.2789 - val_loss: 0.2789\n",
      "Epoch 18/50\n",
      "\u001b[1m13/13\u001b[0m \u001b[32m━━━━━━━━━━━━━━━━━━━━\u001b[0m\u001b[37m\u001b[0m \u001b[1m0s\u001b[0m 3ms/step - binary_crossentropy: 0.0876 - loss: 0.0876 - val_binary_crossentropy: 0.2777 - val_loss: 0.2777\n",
      "Epoch 19/50\n",
      "\u001b[1m13/13\u001b[0m \u001b[32m━━━━━━━━━━━━━━━━━━━━\u001b[0m\u001b[37m\u001b[0m \u001b[1m0s\u001b[0m 3ms/step - binary_crossentropy: 0.0837 - loss: 0.0837 - val_binary_crossentropy: 0.2729 - val_loss: 0.2729\n",
      "Epoch 20/50\n",
      "\u001b[1m13/13\u001b[0m \u001b[32m━━━━━━━━━━━━━━━━━━━━\u001b[0m\u001b[37m\u001b[0m \u001b[1m0s\u001b[0m 2ms/step - binary_crossentropy: 0.0798 - loss: 0.0798 - val_binary_crossentropy: 0.2682 - val_loss: 0.2682\n",
      "Epoch 21/50\n",
      "\u001b[1m13/13\u001b[0m \u001b[32m━━━━━━━━━━━━━━━━━━━━\u001b[0m\u001b[37m\u001b[0m \u001b[1m0s\u001b[0m 2ms/step - binary_crossentropy: 0.0680 - loss: 0.0680 - val_binary_crossentropy: 0.2640 - val_loss: 0.2640\n",
      "Epoch 22/50\n",
      "\u001b[1m13/13\u001b[0m \u001b[32m━━━━━━━━━━━━━━━━━━━━\u001b[0m\u001b[37m\u001b[0m \u001b[1m0s\u001b[0m 2ms/step - binary_crossentropy: 0.0712 - loss: 0.0712 - val_binary_crossentropy: 0.2622 - val_loss: 0.2622\n",
      "Epoch 23/50\n",
      "\u001b[1m13/13\u001b[0m \u001b[32m━━━━━━━━━━━━━━━━━━━━\u001b[0m\u001b[37m\u001b[0m \u001b[1m0s\u001b[0m 2ms/step - binary_crossentropy: 0.0678 - loss: 0.0678 - val_binary_crossentropy: 0.2651 - val_loss: 0.2651\n",
      "Epoch 24/50\n",
      "\u001b[1m13/13\u001b[0m \u001b[32m━━━━━━━━━━━━━━━━━━━━\u001b[0m\u001b[37m\u001b[0m \u001b[1m0s\u001b[0m 2ms/step - binary_crossentropy: 0.0596 - loss: 0.0596 - val_binary_crossentropy: 0.2628 - val_loss: 0.2628\n"
     ]
    }
   ],
   "source": [
    "model = SimpleNN(len(features), len(targets))\n",
    "model.compile()\n",
    "history = model.fit(X_train, y_train, epochs=50)"
   ]
  },
  {
   "cell_type": "code",
   "execution_count": 222,
   "metadata": {},
   "outputs": [
    {
     "data": {
      "text/plain": [
       "Text(0.5, 1.0, 'Loss evolution')"
      ]
     },
     "execution_count": 222,
     "metadata": {},
     "output_type": "execute_result"
    },
    {
     "data": {
      "image/png": "[encoded data removed]",
      "text/plain": [
       "<Figure size 640x480 with 1 Axes>"
      ]
     },
     "metadata": {},
     "output_type": "display_data"
    }
   ],
   "source": [
    "plt.plot(history.history['binary_crossentropy'])\n",
    "plt.plot(history.history['val_binary_crossentropy'])\n",
    "plt.legend(['Train Loss', 'Validation Loss'])\n",
    "plt.xlabel('Epoch')\n",
    "plt.ylabel('Loss')\n",
    "plt.title('Loss evolution')\n",
    "plt.ylim(0, 1)"
   ]
  },
  {
   "cell_type": "markdown",
   "metadata": {},
   "source": [
    "### Testes da rede"
   ]
  },
  {
   "cell_type": "code",
   "execution_count": 223,
   "metadata": {},
   "outputs": [
    {
     "name": "stdout",
     "output_type": "stream",
     "text": [
      "\u001b[1m2/2\u001b[0m \u001b[32m━━━━━━━━━━━━━━━━━━━━\u001b[0m\u001b[37m\u001b[0m \u001b[1m0s\u001b[0m 41ms/step\n",
      "Hamming Loss: 0.06989247311827956\n"
     ]
    }
   ],
   "source": [
    "predictions = np.array(model.predict(X_test))\n",
    "\n",
    "threshold = 0.5\n",
    "predictions[predictions >= threshold] = 1\n",
    "predictions[predictions < threshold] = 0\n",
    "\n",
    "print(f'Hamming Loss: {hamming_loss(predictions, y_test)}')"
   ]
  },
  {
   "cell_type": "markdown",
   "metadata": {},
   "source": [
    "# Plantas\n",
    "O conjunto de dados possui doze localizações subcelulares: CellMembraneProteins, CellWallProteins, ChloroplastProteins, CytoplasmProteins, EndoplasmicReticulumProteins, ExtracellProteins, GolgiApparatusProteins, MitochondrionProteins, NucleusProteins, PeroxisomeProteins, PlastidProteins e VacuoleProteins.\n",
    "\n",
    "### Leitura do Dataset"
   ]
  },
  {
   "cell_type": "code",
   "execution_count": 224,
   "metadata": {},
   "outputs": [],
   "source": [
    "plants_df = pd.read_csv('data/Plants_Dataset_Term_Frequency.tsv', delimiter='\\t')\n",
    "targets = plants_df.columns[-12:]\n",
    "features = [i for i in plants_df.columns if i.isdigit()]"
   ]
  },
  {
   "cell_type": "markdown",
   "metadata": {},
   "source": [
    "### Split treino e teste"
   ]
  },
  {
   "cell_type": "code",
   "execution_count": 225,
   "metadata": {},
   "outputs": [
    {
     "name": "stdout",
     "output_type": "stream",
     "text": [
      "X_train shape: (676, 1830)\n",
      "y_train shape: (676, 12)\n",
      "290 test samples\n",
      "676 train samples\n"
     ]
    }
   ],
   "source": [
    "X = plants_df[features]\n",
    "y = plants_df[targets]\n",
    "X_train, X_test, y_train, y_test = train_test_split(X, y, random_state=0, train_size=0.7)\n",
    "\n",
    "print(\"X_train shape:\", X_train.shape)\n",
    "print(\"y_train shape:\", y_train.shape)\n",
    "print(X_test.shape[0], \"test samples\")\n",
    "print(X_train.shape[0], \"train samples\")"
   ]
  },
  {
   "cell_type": "markdown",
   "metadata": {},
   "source": [
    "### Normalização dos dados"
   ]
  },
  {
   "cell_type": "code",
   "execution_count": 226,
   "metadata": {},
   "outputs": [],
   "source": [
    "scaler = StandardScaler() \n",
    "scaler.fit(X_train)\n",
    "X_train = scaler.transform(X_train)\n",
    "X_test = scaler.transform(X_test)\n",
    "\n",
    "X_train = np.expand_dims(X_train, -1)\n",
    "X_test = np.expand_dims(X_test, -1)"
   ]
  },
  {
   "cell_type": "markdown",
   "metadata": {},
   "source": [
    "### Instancia e treina rede neural"
   ]
  },
  {
   "cell_type": "code",
   "execution_count": 227,
   "metadata": {},
   "outputs": [
    {
     "name": "stdout",
     "output_type": "stream",
     "text": [
      "Epoch 1/50\n"
     ]
    },
    {
     "name": "stdout",
     "output_type": "stream",
     "text": [
      "\u001b[1m58/58\u001b[0m \u001b[32m━━━━━━━━━━━━━━━━━━━━\u001b[0m\u001b[37m\u001b[0m \u001b[1m1s\u001b[0m 16ms/step - binary_crossentropy: 0.4284 - loss: 0.4284 - val_binary_crossentropy: 0.2380 - val_loss: 0.2380\n",
      "Epoch 2/50\n",
      "\u001b[1m58/58\u001b[0m \u001b[32m━━━━━━━━━━━━━━━━━━━━\u001b[0m\u001b[37m\u001b[0m \u001b[1m0s\u001b[0m 2ms/step - binary_crossentropy: 0.1849 - loss: 0.1849 - val_binary_crossentropy: 0.1975 - val_loss: 0.1975\n",
      "Epoch 3/50\n",
      "\u001b[1m58/58\u001b[0m \u001b[32m━━━━━━━━━━━━━━━━━━━━\u001b[0m\u001b[37m\u001b[0m \u001b[1m0s\u001b[0m 2ms/step - binary_crossentropy: 0.1418 - loss: 0.1418 - val_binary_crossentropy: 0.1705 - val_loss: 0.1705\n",
      "Epoch 4/50\n",
      "\u001b[1m58/58\u001b[0m \u001b[32m━━━━━━━━━━━━━━━━━━━━\u001b[0m\u001b[37m\u001b[0m \u001b[1m0s\u001b[0m 4ms/step - binary_crossentropy: 0.1058 - loss: 0.1058 - val_binary_crossentropy: 0.1495 - val_loss: 0.1495\n",
      "Epoch 5/50\n",
      "\u001b[1m58/58\u001b[0m \u001b[32m━━━━━━━━━━━━━━━━━━━━\u001b[0m\u001b[37m\u001b[0m \u001b[1m0s\u001b[0m 3ms/step - binary_crossentropy: 0.0865 - loss: 0.0865 - val_binary_crossentropy: 0.1332 - val_loss: 0.1332\n",
      "Epoch 6/50\n",
      "\u001b[1m58/58\u001b[0m \u001b[32m━━━━━━━━━━━━━━━━━━━━\u001b[0m\u001b[37m\u001b[0m \u001b[1m0s\u001b[0m 2ms/step - binary_crossentropy: 0.0644 - loss: 0.0644 - val_binary_crossentropy: 0.1206 - val_loss: 0.1206\n",
      "Epoch 7/50\n",
      "\u001b[1m58/58\u001b[0m \u001b[32m━━━━━━━━━━━━━━━━━━━━\u001b[0m\u001b[37m\u001b[0m \u001b[1m0s\u001b[0m 2ms/step - binary_crossentropy: 0.0563 - loss: 0.0563 - val_binary_crossentropy: 0.1122 - val_loss: 0.1122\n",
      "Epoch 8/50\n",
      "\u001b[1m58/58\u001b[0m \u001b[32m━━━━━━━━━━━━━━━━━━━━\u001b[0m\u001b[37m\u001b[0m \u001b[1m0s\u001b[0m 3ms/step - binary_crossentropy: 0.0448 - loss: 0.0448 - val_binary_crossentropy: 0.1053 - val_loss: 0.1053\n",
      "Epoch 9/50\n",
      "\u001b[1m58/58\u001b[0m \u001b[32m━━━━━━━━━━━━━━━━━━━━\u001b[0m\u001b[37m\u001b[0m \u001b[1m0s\u001b[0m 3ms/step - binary_crossentropy: 0.0378 - loss: 0.0378 - val_binary_crossentropy: 0.1008 - val_loss: 0.1008\n",
      "Epoch 10/50\n",
      "\u001b[1m58/58\u001b[0m \u001b[32m━━━━━━━━━━━━━━━━━━━━\u001b[0m\u001b[37m\u001b[0m \u001b[1m0s\u001b[0m 2ms/step - binary_crossentropy: 0.0310 - loss: 0.0310 - val_binary_crossentropy: 0.0963 - val_loss: 0.0963\n",
      "Epoch 11/50\n",
      "\u001b[1m58/58\u001b[0m \u001b[32m━━━━━━━━━━━━━━━━━━━━\u001b[0m\u001b[37m\u001b[0m \u001b[1m0s\u001b[0m 3ms/step - binary_crossentropy: 0.0288 - loss: 0.0288 - val_binary_crossentropy: 0.0933 - val_loss: 0.0933\n",
      "Epoch 12/50\n",
      "\u001b[1m58/58\u001b[0m \u001b[32m━━━━━━━━━━━━━━━━━━━━\u001b[0m\u001b[37m\u001b[0m \u001b[1m0s\u001b[0m 3ms/step - binary_crossentropy: 0.0255 - loss: 0.0255 - val_binary_crossentropy: 0.0906 - val_loss: 0.0906\n",
      "Epoch 13/50\n",
      "\u001b[1m58/58\u001b[0m \u001b[32m━━━━━━━━━━━━━━━━━━━━\u001b[0m\u001b[37m\u001b[0m \u001b[1m0s\u001b[0m 3ms/step - binary_crossentropy: 0.0218 - loss: 0.0218 - val_binary_crossentropy: 0.0887 - val_loss: 0.0887\n",
      "Epoch 14/50\n",
      "\u001b[1m58/58\u001b[0m \u001b[32m━━━━━━━━━━━━━━━━━━━━\u001b[0m\u001b[37m\u001b[0m \u001b[1m0s\u001b[0m 2ms/step - binary_crossentropy: 0.0198 - loss: 0.0198 - val_binary_crossentropy: 0.0877 - val_loss: 0.0877\n",
      "Epoch 15/50\n",
      "\u001b[1m58/58\u001b[0m \u001b[32m━━━━━━━━━━━━━━━━━━━━\u001b[0m\u001b[37m\u001b[0m \u001b[1m0s\u001b[0m 3ms/step - binary_crossentropy: 0.0149 - loss: 0.0149 - val_binary_crossentropy: 0.0855 - val_loss: 0.0855\n",
      "Epoch 16/50\n",
      "\u001b[1m58/58\u001b[0m \u001b[32m━━━━━━━━━━━━━━━━━━━━\u001b[0m\u001b[37m\u001b[0m \u001b[1m0s\u001b[0m 3ms/step - binary_crossentropy: 0.0153 - loss: 0.0153 - val_binary_crossentropy: 0.0841 - val_loss: 0.0841\n",
      "Epoch 17/50\n",
      "\u001b[1m58/58\u001b[0m \u001b[32m━━━━━━━━━━━━━━━━━━━━\u001b[0m\u001b[37m\u001b[0m \u001b[1m0s\u001b[0m 3ms/step - binary_crossentropy: 0.0159 - loss: 0.0159 - val_binary_crossentropy: 0.0823 - val_loss: 0.0823\n",
      "Epoch 18/50\n",
      "\u001b[1m58/58\u001b[0m \u001b[32m━━━━━━━━━━━━━━━━━━━━\u001b[0m\u001b[37m\u001b[0m \u001b[1m0s\u001b[0m 2ms/step - binary_crossentropy: 0.0129 - loss: 0.0129 - val_binary_crossentropy: 0.0818 - val_loss: 0.0818\n",
      "Epoch 19/50\n",
      "\u001b[1m58/58\u001b[0m \u001b[32m━━━━━━━━━━━━━━━━━━━━\u001b[0m\u001b[37m\u001b[0m \u001b[1m0s\u001b[0m 3ms/step - binary_crossentropy: 0.0119 - loss: 0.0119 - val_binary_crossentropy: 0.0812 - val_loss: 0.0812\n",
      "Epoch 20/50\n",
      "\u001b[1m58/58\u001b[0m \u001b[32m━━━━━━━━━━━━━━━━━━━━\u001b[0m\u001b[37m\u001b[0m \u001b[1m0s\u001b[0m 3ms/step - binary_crossentropy: 0.0113 - loss: 0.0113 - val_binary_crossentropy: 0.0794 - val_loss: 0.0794\n",
      "Epoch 21/50\n",
      "\u001b[1m58/58\u001b[0m \u001b[32m━━━━━━━━━━━━━━━━━━━━\u001b[0m\u001b[37m\u001b[0m \u001b[1m0s\u001b[0m 3ms/step - binary_crossentropy: 0.0093 - loss: 0.0093 - val_binary_crossentropy: 0.0794 - val_loss: 0.0794\n",
      "Epoch 22/50\n",
      "\u001b[1m58/58\u001b[0m \u001b[32m━━━━━━━━━━━━━━━━━━━━\u001b[0m\u001b[37m\u001b[0m \u001b[1m0s\u001b[0m 3ms/step - binary_crossentropy: 0.0087 - loss: 0.0087 - val_binary_crossentropy: 0.0788 - val_loss: 0.0788\n",
      "Epoch 23/50\n",
      "\u001b[1m58/58\u001b[0m \u001b[32m━━━━━━━━━━━━━━━━━━━━\u001b[0m\u001b[37m\u001b[0m \u001b[1m0s\u001b[0m 3ms/step - binary_crossentropy: 0.0080 - loss: 0.0080 - val_binary_crossentropy: 0.0784 - val_loss: 0.0784\n",
      "Epoch 24/50\n",
      "\u001b[1m58/58\u001b[0m \u001b[32m━━━━━━━━━━━━━━━━━━━━\u001b[0m\u001b[37m\u001b[0m \u001b[1m0s\u001b[0m 3ms/step - binary_crossentropy: 0.0098 - loss: 0.0098 - val_binary_crossentropy: 0.0781 - val_loss: 0.0781\n",
      "Epoch 25/50\n",
      "\u001b[1m58/58\u001b[0m \u001b[32m━━━━━━━━━━━━━━━━━━━━\u001b[0m\u001b[37m\u001b[0m \u001b[1m0s\u001b[0m 5ms/step - binary_crossentropy: 0.0073 - loss: 0.0073 - val_binary_crossentropy: 0.0782 - val_loss: 0.0782\n",
      "Epoch 26/50\n",
      "\u001b[1m58/58\u001b[0m \u001b[32m━━━━━━━━━━━━━━━━━━━━\u001b[0m\u001b[37m\u001b[0m \u001b[1m0s\u001b[0m 4ms/step - binary_crossentropy: 0.0071 - loss: 0.0071 - val_binary_crossentropy: 0.0773 - val_loss: 0.0773\n",
      "Epoch 27/50\n",
      "\u001b[1m58/58\u001b[0m \u001b[32m━━━━━━━━━━━━━━━━━━━━\u001b[0m\u001b[37m\u001b[0m \u001b[1m0s\u001b[0m 4ms/step - binary_crossentropy: 0.0060 - loss: 0.0060 - val_binary_crossentropy: 0.0778 - val_loss: 0.0778\n",
      "Epoch 28/50\n",
      "\u001b[1m58/58\u001b[0m \u001b[32m━━━━━━━━━━━━━━━━━━━━\u001b[0m\u001b[37m\u001b[0m \u001b[1m0s\u001b[0m 4ms/step - binary_crossentropy: 0.0047 - loss: 0.0047 - val_binary_crossentropy: 0.0777 - val_loss: 0.0777\n"
     ]
    },
    {
     "data": {
      "text/plain": [
       "<keras.src.callbacks.history.History at 0x76fdf0b4c8f0>"
      ]
     },
     "execution_count": 227,
     "metadata": {},
     "output_type": "execute_result"
    }
   ],
   "source": [
    "model = SimpleNN(len(features), len(targets))\n",
    "model.compile()\n",
    "model.fit(X_train, y_train, epochs=50)"
   ]
  },
  {
   "cell_type": "markdown",
   "metadata": {},
   "source": [
    "### Testes da rede"
   ]
  },
  {
   "cell_type": "code",
   "execution_count": 228,
   "metadata": {},
   "outputs": [
    {
     "name": "stdout",
     "output_type": "stream",
     "text": [
      "\u001b[1m10/10\u001b[0m \u001b[32m━━━━━━━━━━━━━━━━━━━━\u001b[0m\u001b[37m\u001b[0m \u001b[1m0s\u001b[0m 4ms/step \n",
      "Hamming Loss: 0.03477011494252873\n"
     ]
    }
   ],
   "source": [
    "predictions = np.array(model.predict(X_test))\n",
    "\n",
    "threshold = 0.5\n",
    "predictions[predictions >= threshold] = 1\n",
    "predictions[predictions < threshold] = 0\n",
    "\n",
    "print(f'Hamming Loss: {hamming_loss(predictions, y_test)}')"
   ]
  },
  {
   "cell_type": "code",
   "execution_count": 230,
   "metadata": {},
   "outputs": [
    {
     "data": {
      "text/plain": [
       "(0.0, 1.0)"
      ]
     },
     "execution_count": 230,
     "metadata": {},
     "output_type": "execute_result"
    },
    {
     "data": {
      "image/png": "[encoded data removed]",
      "text/plain": [
       "<Figure size 640x480 with 1 Axes>"
      ]
     },
     "metadata": {},
     "output_type": "display_data"
    }
   ],
   "source": [
    "plt.plot(history.history['binary_crossentropy'])\n",
    "plt.plot(history.history['val_binary_crossentropy'])\n",
    "plt.legend(['Train Loss', 'Validation Loss'])\n",
    "plt.xlabel('Epoch')\n",
    "plt.ylabel('Loss')\n",
    "plt.title('Loss evolution')\n",
    "plt.ylim(0, 1)"
   ]
  },
  {
   "cell_type": "code",
   "execution_count": null,
   "metadata": {},
   "outputs": [],
   "source": []
  }
 ],
 "metadata": {
  "kernelspec": {
   "display_name": "venv",
   "language": "python",
   "name": "python3"
  },
  "language_info": {
   "codemirror_mode": {
    "name": "ipython",
    "version": 3
   },
   "file_extension": ".py",
   "mimetype": "text/x-python",
   "name": "python",
   "nbconvert_exporter": "python",
   "pygments_lexer": "ipython3",
   "version": "3.12.6"
  }
 },
 "nbformat": 4,
 "nbformat_minor": 2
}
